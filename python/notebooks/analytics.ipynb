{
  "cells": [
    {"cell_type":"markdown","metadata":{},"source":["# Analytics on-chain (demo)\n","Carga CSV de transfers y grafica volumen por bloque."]},
    {"cell_type":"code","execution_count":null,"metadata":{},"outputs":[],"source":["import pandas as pd\n","import matplotlib.pyplot as plt\n","df = pd.read_csv('../data/transfers.csv') if False else pd.DataFrame({'blockNumber':[1,2,3],'value':[10,20,5]})\n","df.groupby('blockNumber')['value'].sum().plot(kind='bar'); plt.title('Volumen por bloque (demo)')"]}
  ],
  "metadata": {"kernelspec": {"display_name": "Python 3", "language": "python", "name": "python3"}},
  "nbformat": 4,
  "nbformat_minor": 5
}

